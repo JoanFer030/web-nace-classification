{
 "cells": [
  {
   "cell_type": "markdown",
   "metadata": {},
   "source": [
    "<h1 align=\"center\"><b>Exploratory Data Analysis - Web Availability in Spanish Companies</b></h1>\n",
    "\n",
    "<h3><b>Table of Contents</b></h3>\n",
    "<ul style = \"line-height: 0.2em;\">\n",
    "\t<li><a href=\"#data\"><h5>Data Sources</h5></a></li>\n",
    "\t<li><a href=\"#analysis\"><h5>Data Analysis</h5></a></li>\n",
    "    <ul>\n",
    "    \t<li><a href=\"#analysis-availability\"><h5>Web Availability</h5></a></li>\n",
    "    \t<li><a href=\"#analysis-date\"><h5>Last update Distribution</h5></a></li>\n",
    "    \t<li><a href=\"#analysis-province\"><h5>Province Distribution</h5></a></li>\n",
    "    \t<li><a href=\"#analysis-employees\"><h5>Employees Distribution</h5></a></li>\n",
    "    </ul>\n",
    "    <li><a href=\"#cnae\"><h5>CNAE 2009</h5></a></li>\n",
    "    <ul>\n",
    "    \t<li><a href=\"#cnae-level1\"><h5>Section (Level 1)</h5></a></li>\n",
    "    \t<li><a href=\"#cnae-level2\"><h5>Division (Level 2)</h5></a></li>\n",
    "    \t<li><a href=\"#cnae-level3\"><h5>Group (Level 3)</h5></a></li>\n",
    "    \t<li><a href=\"#cnae-level4\"><h5>Class (Level 4)</h5></a></li>\n",
    "    </ul>\n",
    "\t<li><a href=\"#conclusion\"><h5>Conclusion</h5></a></li>\n",
    "</ul>"
   ]
  },
  {
   "cell_type": "markdown",
   "metadata": {},
   "source": [
    "<h2 style=\"margin-top: 50px;\" id=\"data\"><b>Data Sources</b></h2>\n",
    "<p style=\"text-align: justify; margin: 1em;\">\n",
    "    Explain data and the meaning of each column \n",
    "</p>\n",
    "<h4><b>Sources:</b></h4>\n",
    "<ol>\n",
    "\t<li><b>Spanish Companies.</b> This JSON file contains a list of all the areas into which Chicago is divided. For each area contains information about its population and area. (<a href=\"https://sabi.informa.es/\">Link</a>)</li>\n",
    "\t<li><b>CNAE 2009.</b> This JSON file contains the shape of each area of Chicago. (<a href=\"https://www.ine.es/dyngs/INEbase/es/operacion.htm?c=Estadistica_C&cid=1254736177032&menu=resultados&idp=1254735976614#_tabs-1254736195862\">Link</a>)</li>\n",
    "</ol>"
   ]
  },
  {
   "cell_type": "code",
   "execution_count": null,
   "metadata": {},
   "outputs": [],
   "source": [
    "# load data"
   ]
  },
  {
   "cell_type": "markdown",
   "metadata": {},
   "source": [
    "<h2 style=\"margin-top: 50px;\" id=\"analysis\"><b>Data Analysis</b></h2>\n",
    "<p style=\"text-align: justify; margin: 1em;\">\n",
    "    Explain data analysis and what are we doing\n",
    "</p>"
   ]
  },
  {
   "cell_type": "code",
   "execution_count": null,
   "metadata": {},
   "outputs": [],
   "source": []
  }
 ],
 "metadata": {
  "kernelspec": {
   "display_name": "Python 3 (ipykernel)",
   "language": "python",
   "name": "python3"
  },
  "language_info": {
   "codemirror_mode": {
    "name": "ipython",
    "version": 3
   },
   "file_extension": ".py",
   "mimetype": "text/x-python",
   "name": "python",
   "nbconvert_exporter": "python",
   "pygments_lexer": "ipython3",
   "version": "3.10.12"
  }
 },
 "nbformat": 4,
 "nbformat_minor": 4
}
